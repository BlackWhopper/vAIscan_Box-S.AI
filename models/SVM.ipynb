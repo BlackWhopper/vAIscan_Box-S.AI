{
 "cells": [
  {
   "cell_type": "code",
   "execution_count": 2,
   "id": "ebdcece6",
   "metadata": {},
   "outputs": [],
   "source": [
    "from sklearn.svm import SVC\n",
    "from sklearn.model_selection import GridSearchCV    \n",
    "        \n",
    "nfolds=10\n",
    "svm_parameters = [{'kernel' : ['rbf'],'C':[0.1,1,10, 100, 1000], 'gamma':[1, 0.1, 0.01, 0.001, 0.0001]}]\n",
    "\n",
    "#사이킷런에서 제공하는 GridSearchCV를 사용해 최적의 파라미터를 구함\n",
    "clf = GridSearchCV(SVC(verbose=True), svm_parameters, cv=nfolds, scoring='accuracy') # estimator, param_grid, cross-validation\n",
    "print(\"end gridsearchcv\")\n",
    "clf.fit(self.x_train, self.y_train.values.ravel())\n",
    "print(clf.best_params_) #최고 점수를 낸 파라미터 출력\n"
   ]
  },
  {
   "cell_type": "code",
   "execution_count": null,
   "id": "5c57665c",
   "metadata": {},
   "outputs": [],
   "source": []
  }
 ],
 "metadata": {
  "kernelspec": {
   "display_name": "Python 3 (ipykernel)",
   "language": "python",
   "name": "python3"
  },
  "language_info": {
   "codemirror_mode": {
    "name": "ipython",
    "version": 3
   },
   "file_extension": ".py",
   "mimetype": "text/x-python",
   "name": "python",
   "nbconvert_exporter": "python",
   "pygments_lexer": "ipython3",
   "version": "3.9.16"
  }
 },
 "nbformat": 4,
 "nbformat_minor": 5
}
